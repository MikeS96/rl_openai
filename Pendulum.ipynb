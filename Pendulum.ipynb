{
 "cells": [
  {
   "cell_type": "markdown",
   "metadata": {},
   "source": [
    "# Continuous Pendulum with function appoximation and control"
   ]
  },
  {
   "cell_type": "markdown",
   "metadata": {},
   "source": [
    "This Notebook is intended to solve the Continuous Pendulum problem using Policy gradient methods (Deep actor-critic).\n",
    "\n",
    "The description of the problem is given below:\n",
    "\n",
    "\"The inverted pendulum swingup problem is a classic problem in the control literature. In this version of the problem, the pendulum starts in a random position, and the goal is to swing it up so it stays upright..\" \n",
    "\n",
    "<img src=\"./assets/pendulum.png\" width=\"380\" />\n",
    "\n",
    "Image and Text taken from Taken from [Official documentaiton Pendulum](https://gym.openai.com/envs/Pendulum-v0/)."
   ]
  },
  {
   "cell_type": "code",
   "execution_count": 1,
   "metadata": {},
   "outputs": [],
   "source": [
    "import numpy as np\n",
    "import matplotlib.pyplot as plt\n",
    "from tqdm import tqdm\n",
    "\n",
    "import gym\n",
    "from gym.wrappers import Monitor\n",
    "from utils import *\n",
    "\n",
    "import torch\n",
    "from torch import nn\n",
    "import torch.nn.functional as F\n",
    "from torch import optim\n",
    "\n",
    "%matplotlib inline\n",
    "\n",
    "device = torch.device('cuda' if torch.cuda.is_available() else 'cpu')"
   ]
  },
  {
   "cell_type": "markdown",
   "metadata": {},
   "source": [
    "## Markov Decision Process\n",
    "\n",
    "As a quick recap, the diagram below explains the workflow of a Markov Decision Process (MDP)\n",
    "\n",
    "<img src=\"./assets/MDP.png\" width=\"380\" />\n",
    "\n",
    "Image taken from [Section 3.1 Reinforment Learning an Introduction](http://www.incompleteideas.net/book/RLbook2018.pdf#page=70)"
   ]
  },
  {
   "cell_type": "markdown",
   "metadata": {},
   "source": [
    "## Environment and Agent specifications\n",
    "\n",
    "The states, actions, reward and termination are given as follows for the lunar lander problem."
   ]
  },
  {
   "cell_type": "markdown",
   "metadata": {},
   "source": [
    "**Observation**: \n",
    "\n",
    "     Type:  Box(2)\n",
    "     Num \tObservation \t Min \tMax\n",
    "     0 \t  cos(theta)      -1.0 \t1.0\n",
    "     1 \t  sin(theta) \t -1.0 \t1.0\n",
    "     2       theta dot \t  -8.0 \t8.0\n",
    "         \n",
    "**Actions**:\n",
    "\n",
    "     Type: Box(1)\n",
    "     Num \tAction \t        Min \tMax\n",
    "     0 \t  Joint effort      -2.0 \t2.0\n",
    "\n",
    "        \n",
    "**Reward**:\n",
    "\n",
    "     -(theta^2 + 0.1*theta_dt^2 + 0.001*action^2)\n",
    "\n",
    "        \n",
    "**Starting State**:\n",
    "\n",
    "     Random angle from -pi to pi, and random velocity between -1 and 1\n",
    "        \n",
    "**Episode Termination**:\n",
    "\n",
    "     Continuous problem\n",
    "     \n",
    "For further information see [Github source code](https://github.com/openai/gym/blob/master/gym/envs/classic_control/pendulum.py)"
   ]
  },
  {
   "cell_type": "markdown",
   "metadata": {},
   "source": [
    "The next cell aims to show how to iterate with the action and observation space of the agent and extract relevant information from it "
   ]
  },
  {
   "cell_type": "code",
   "execution_count": 2,
   "metadata": {},
   "outputs": [
    {
     "name": "stdout",
     "output_type": "stream",
     "text": [
      "The Action Space is an object of type: Box(1,)\n",
      "\n",
      "The shape of the action space is: (1,)\n",
      "\n",
      "The High values in the action space are [2.], the low values are [-2.]\n",
      "\n",
      "The Environment Space is an object of type: Box(3,)\n",
      "\n",
      "The Shape of the dimension Space are: (3,)\n",
      "\n",
      "The High values in the observation space are [1. 1. 8.], the low values are [-1. -1. -8.]\n",
      "\n",
      "The Observations at a given timestep are [-0.48172188 -0.47738546 -1.0262377 ]\n",
      "\n"
     ]
    }
   ],
   "source": [
    "env = gym.make(\"Pendulum-v0\")\n",
    "observation = env.reset() \n",
    "\n",
    "# Object's type in the action Space\n",
    "print(\"The Action Space is an object of type: {0}\\n\".format(env.action_space))\n",
    "# Shape of the action Space\n",
    "print(\"The shape of the action space is: {0}\\n\".format(env.action_space.shape))\n",
    "# The high and low values in the action space\n",
    "print(\"The High values in the action space are {0}, the low values are {1}\\n\".format(\n",
    "    env.action_space.high, env.action_space.low))\n",
    "# Object's type in the Observation Space\n",
    "print(\"The Environment Space is an object of type: {0}\\n\".format(env.observation_space))\n",
    "# Shape of the observation space\n",
    "print(\"The Shape of the dimension Space are: {0}\\n\".format(env.observation_space.shape))\n",
    "# The high and low values in the observation space\n",
    "print(\"The High values in the observation space are {0}, the low values are {1}\\n\".format(\n",
    "    env.observation_space.high, env.observation_space.low))\n",
    "# Example of observation\n",
    "print(\"The Observations at a given timestep are {0}\\n\".format(env.observation_space.sample()))\n",
    "\n",
    "# https://medium.com/deeplearningmadeeasy/advantage-actor-critic-continuous-case-implementation-f55ce5da6b4c\n",
    "# https://www.coursera.org/learn/prediction-control-function-approximation/home/welcome\n",
    "# [Section 3.1 Reinforment Learning an Introduction](http://www.incompleteideas.net/book/RLbook2018.pdf#page=357)"
   ]
  },
  {
   "cell_type": "markdown",
   "metadata": {},
   "source": [
    "## Critic Neural Network"
   ]
  },
  {
   "cell_type": "markdown",
   "metadata": {},
   "source": [
    "For this problem, the critic is a Neural Network with a single output. The input dimension is equal to the number of states in the problem. Recall that.\n",
    "\n",
    "$$ v_\\pi(s) \\approx \\hat{v}(s, w) = NN(s, w) $$\n",
    "\n",
    "For further information about Neural Networks for function approximation see [Section 9.7 of Reinforment Learning an Introduction](http://www.incompleteideas.net/book/RLbook2018.pdf#page=246)"
   ]
  },
  {
   "cell_type": "code",
   "execution_count": 3,
   "metadata": {},
   "outputs": [],
   "source": [
    "# Critic Neural Network\n",
    "class Critic(nn.Module):\n",
    "    # Work Required: Yes. Fill in the layer_sizes member variable (~1 Line).\n",
    "    def __init__(self, critic_config):\n",
    "        super().__init__()\n",
    "        \n",
    "        # Number of states\n",
    "        self.state_dim = critic_config.get(\"state_dim\")\n",
    "        # Hidden units\n",
    "        self.num_hidden_units = critic_config.get(\"num_hidden_units\")\n",
    "        \n",
    "        # Number of nodes in the first hidden layer\n",
    "        self.hidden1_units = int(self.num_hidden_units / 4)\n",
    "        # Number of nodes in the second hidden layer\n",
    "        self.hidden2_units = int(self.num_hidden_units / 2)\n",
    "        \n",
    "        # Initialzie first hidden layer \n",
    "        self.hidden_1 = nn.Linear(self.state_dim, self.hidden1_units)\n",
    "        # Initialzie second hidden layer \n",
    "        self.hidden_2 = nn.Linear(self.hidden1_units, self.hidden2_units)\n",
    "        # Initialzie Third hidden layer \n",
    "        self.hidden_3 = nn.Linear(self.hidden2_units, self.num_hidden_units)\n",
    "        # Initialize output layer\n",
    "        self.output = nn.Linear(self.num_hidden_units, 1)\n",
    "                        \n",
    "    \n",
    "    def forward(self, s):\n",
    "        \"\"\"\n",
    "        This is a feed-forward pass in the network\n",
    "        Args:\n",
    "            s (Numpy array): The state, a 2D array of shape (state_dim)\n",
    "        Returns:\n",
    "            The value estimates (Torch array) calculated using the network's weights.\n",
    "            A 2D array of shape (num_actions)\n",
    "        \"\"\"\n",
    "        # Transform observations into a pytorch tensor\n",
    "        s = torch.Tensor(s)\n",
    "        \n",
    "        v = F.relu(self.hidden_1(s))\n",
    "        v = F.relu(self.hidden_2(v))\n",
    "        v = F.relu(self.hidden_3(v))\n",
    "        v = self.output(v)\n",
    "\n",
    "        return v"
   ]
  },
  {
   "cell_type": "markdown",
   "metadata": {},
   "source": [
    "## Actor Neural Network\n",
    "\n",
    "As this is a contininuous problem, it is possible to use a Normal distribution to sample actions. For this task, a neural network is used to compute $\\mu$ and $\\sigma$ which are the mean and standard deviation of a Normal Distribution.\n",
    "\n",
    "$$ \\pi(a | s, \\theta) \\doteq \\frac{1}{\\sigma(s, \\theta) \\sqrt{2\\pi}}e^-{\\frac{(a-\\mu(s,\\theta))^2}{2\\sigma(s,\\theta)^2}} $$\n",
    "\n",
    "As $\\mu$ and $\\sigma$ are computed by the network, they are automatically adjusted depending on the current state of the problem. The input of the neural netork are the states of the problem, the output is composed of two nodes, ($\\mu$ and $\\sigma$) for a unique action in this problem.\n",
    "\n",
    "For further explanation see [Section 13.7 of Reinforment Learning an Introduction](http://www.incompleteideas.net/book/RLbook2018.pdf#page=357)"
   ]
  },
  {
   "cell_type": "code",
   "execution_count": 4,
   "metadata": {},
   "outputs": [],
   "source": [
    "# The Actor neural network\n",
    "class Actor(nn.Module):\n",
    "    def __init__(self,  actor_config):\n",
    "        super().__init__()\n",
    "                \n",
    "        # Number of states\n",
    "        self.state_dim = actor_config.get(\"state_dim\")\n",
    "        # Hidden units\n",
    "        self.num_hidden_units = actor_config.get(\"num_hidden_units\")\n",
    "        # Actions or output units\n",
    "        self.num_actions = actor_config.get(\"num_actions\")\n",
    "        \n",
    "        # Number of nodes in the first hidden layer\n",
    "        self.hidden1_units = int(self.num_hidden_units / 4)\n",
    "        # Number of nodes in the second hidden layer\n",
    "        self.hidden2_units = int(self.num_hidden_units / 2)\n",
    "        \n",
    "        # Initialzie first hidden layer \n",
    "        self.hidden_1 = nn.Linear(self.state_dim, self.hidden1_units)\n",
    "        # Initialzie second hidden layer \n",
    "        self.hidden_2 = nn.Linear(self.hidden1_units, self.hidden2_units)\n",
    "        # Initialzie Third hidden layer \n",
    "        self.hidden_3 = nn.Linear(self.hidden2_units, self.num_hidden_units)\n",
    "        # Initialize output layer (muliply output by 2 to obtain mu and sigma)\n",
    "        self.output = nn.Linear(self.num_hidden_units, self.num_actions * 2)\n",
    "        \n",
    "        # Log of standard deviation\n",
    "        # logstdv_param = nn.Parameter(torch.full((self.num_actions,), 0.1))\n",
    "        # Register parameter in the network\n",
    "        # self.register_parameter(\"logstdv\", logstdv_param)\n",
    "                \n",
    "    def compute_mean(self, s):\n",
    "        \"\"\"\n",
    "        This is a feed-forward pass in the network\n",
    "        Args:\n",
    "            s (Numpy array): The state, a 2D array of shape (state_dim)\n",
    "        Returns:\n",
    "            Mean and stdv (Torch array) calculated using the network's weights.\n",
    "            A 2D array of shape (num_actions * 2)\n",
    "        \"\"\"\n",
    "        # Transform observations into a pytorch tensor\n",
    "        s = torch.Tensor(s)\n",
    "        \n",
    "        pi = F.relu(self.hidden_1(s))\n",
    "        pi = F.relu(self.hidden_2(pi))\n",
    "        pi = F.relu(self.hidden_3(pi))\n",
    "        pi = self.output(pi)\n",
    "        \n",
    "        return pi\n",
    "                \n",
    "    \n",
    "    def forward(self, s):\n",
    "        \n",
    "        # Compute the mean and log stedv with the model\n",
    "        mean, logstdv = self.compute_mean(s)\n",
    "        # Exp the log stdv (To avoid negative values)\n",
    "        stdv = logstdv.exp()\n",
    "        \n",
    "        # Clamp the stdv between 1e-3 and 50\n",
    "        #stdv = torch.clamp(logstdv.exp(), 1e-3, 50)\n",
    "        \n",
    "        # Sample an action from the normal distribution\n",
    "        return torch.distributions.Normal(mean, stdv)\n"
   ]
  },
  {
   "cell_type": "markdown",
   "metadata": {},
   "source": [
    "## Computing TD target and TD estimate\n",
    "\n",
    "The TD target and TD estimate's computation will be done in the next lines. The main idea here is to obtain both TD values from the Critic's network.\n",
    "\n",
    "The TD error is composed of two values, the TD estimate and TD Target.\n",
    "\n",
    "$$ \\delta = [R_{t+1} + \\gamma \\hat{v}(S_{t+1}, w) - \\hat{v}(s_t,w)] = \\text{TD error} $$\n",
    " \n",
    "Recall that the TD Target is given by.\n",
    "\n",
    "$$ R_{t+1} + \\gamma \\hat{v}(S_{t+1}, w) $$\n",
    "\n",
    "Similarly, the TD estimate is.\n",
    "\n",
    "$$ \\hat{v}(s_t,w) $$\n",
    "\n",
    "\n",
    "For further explanation about TD methods see [Section 6.1 of Reinforment Learning an Introduction](http://www.incompleteideas.net/book/RLbook2018.pdf#page=141)\n"
   ]
  },
  {
   "cell_type": "code",
   "execution_count": 5,
   "metadata": {},
   "outputs": [],
   "source": [
    "# Method to compute the TD Target and TD estimate\n",
    "def get_td(states, next_states, rewards, terminals, critic, discount):\n",
    "    \"\"\"\n",
    "    Args:\n",
    "        states (Numpy array): States with shape (state_dim).\n",
    "        next_states (Numpy array): Next states with shape (state_dim).\n",
    "        rewards (float): Current reward.\n",
    "        terminals (float): Terminal state.\n",
    "        critic (Critic): The critic neural network used to compute value estimates\n",
    "        discount (float): The discount factor (gamma).\n",
    "    Returns:\n",
    "        target_vec (Tensor value): The TD Target.\n",
    "        estimate_vec (Tensor value): The TD estimate.\n",
    "    \"\"\"\n",
    "    # Compute value estimates for the next states\n",
    "    v_next_vals = critic.forward(next_states)\n",
    "    # Compute value estimates for the current states (TD estimate)\n",
    "    v_curr_vals = critic.forward(states)\n",
    "    \n",
    "    # Compute the TD Target\n",
    "    target_vec = torch.tensor(rewards) + (discount * v_next_vals * (1 - torch.tensor(terminals)))\n",
    " \n",
    "    return target_vec, v_curr_vals"
   ]
  },
  {
   "cell_type": "markdown",
   "metadata": {},
   "source": [
    "## Clipping the gradients\n",
    "\n",
    "To guarantee stability in the training process, it is necessary to clip the gradients of the networks."
   ]
  },
  {
   "cell_type": "code",
   "execution_count": 6,
   "metadata": {},
   "outputs": [],
   "source": [
    "def clip_grad_norm_(module, max_grad_norm):\n",
    "    nn.utils.clip_grad_norm_([p for g in module.param_groups for p in g[\"params\"]], max_grad_norm)"
   ]
  },
  {
   "cell_type": "markdown",
   "metadata": {},
   "source": [
    "## Implementing Actor-Critic Agent"
   ]
  },
  {
   "cell_type": "markdown",
   "metadata": {},
   "source": [
    "The final step is to implement the Agent. The training process is cyclical as this is a continuous task and the sequence goes as follows.\n",
    "\n",
    "$\\delta_t = R_{t+1}  + \\gamma \\hat{v}(S_{t+1}, \\mathbf{w}) - \\hat{v}(S_{t}, \\mathbf{w}) \\hspace{6em}  (1)$\n",
    "\n",
    "**Critic weight update rule**: $\\mathbf{w} \\leftarrow \\mathbf{w} + \\alpha^{\\mathbf{w}}\\delta\\nabla \\hat{v}(s,\\mathbf{w}) \\hspace{2.5em} (2)$\n",
    "\n",
    "**Actor weight update rule**: $\\mathbf{\\theta} \\leftarrow \\mathbf{\\theta} + \\alpha^{\\mathbf{\\theta}}\\delta\\nabla ln \\pi(A|S,\\mathbf{\\theta}) \\hspace{1.4em} (3)$\n",
    "\n",
    "For further details, see [Section 13.5 of Reinforment Learning an Introduction](http://www.incompleteideas.net/book/RLbook2018.pdf#page=353)."
   ]
  },
  {
   "cell_type": "code",
   "execution_count": 7,
   "metadata": {},
   "outputs": [],
   "source": [
    "# Actor-Critic Agent\n",
    "class ActorCritic():\n",
    "    \"\"\"\n",
    "    Initialization of Actor-Critic Agent. All values are set to None so they can\n",
    "    be initialized in the agent_init method.\n",
    "    \"\"\"\n",
    "    def __init__(self):\n",
    "        \"\"\"Setup for the agent called when the experiment first starts.\"\"\"\n",
    "        self.actor_step_size = None\n",
    "        self.critic_step_size = None\n",
    "        self.avg_reward_step_size = None\n",
    "\n",
    "        self.avg_reward = None\n",
    "        self.critic = None\n",
    "        self.actor = None\n",
    "\n",
    "        self.actions = None\n",
    "\n",
    "        self.last_action = None\n",
    "        self.last_state = None\n",
    "\n",
    "    def agent_init(self, agent_config = {}):\n",
    "        \"\"\"Setup for the agent called when the experiment first starts.\"\"\"\n",
    "        \n",
    "        # Step size parameters\n",
    "        self.actor_step_size = agent_config['optimizers_config']['actor_step_size']\n",
    "        self.critic_step_size = agent_config['optimizers_config']['critic_step_size']\n",
    "        self.discount = agent_config['optimizers_config']['gamma']\n",
    "        \n",
    "        # Set number of actions\n",
    "        self.actions = agent_config['network_config']['num_actions']\n",
    "        \n",
    "        # Initialize actor and critic networks\n",
    "        self.actor = Actor(agent_config['network_config']).to(device)\n",
    "        self.critic = Critic(agent_config['network_config']).to(device)\n",
    "        \n",
    "        # Critic Loss\n",
    "        self.critic_loss = nn.MSELoss()\n",
    "        \n",
    "        # Loss variables\n",
    "        self.actor_loss_val = 0\n",
    "        self.critic_loss_val = 0\n",
    "        \n",
    "        # Actor and Critic optimizer\n",
    "        self.actor_opti = optim.Adam(self.actor.parameters(), lr = self.actor_step_size ) \n",
    "        self.critic_opti = optim.Adam(self.critic.parameters(), lr = self.critic_step_size )\n",
    "        \n",
    "        self.last_action = None\n",
    "        self.last_state = None\n",
    "\n",
    "    def select_action(self, state):\n",
    "        \"\"\"\n",
    "        Selects an action using epsilon greedy\n",
    "        Args:\n",
    "            state (Numpy array): the state.\n",
    "        Returns:\n",
    "            chosen_action (float)\n",
    "        \"\"\"\n",
    "        # Pass the states to create the normal distribution\n",
    "        dist = self.actor.forward(state)\n",
    "        # Sample an action from the current normal Distribution\n",
    "        action = dist.sample().detach().data.numpy()\n",
    "        # Clip action to a given range (Max and Min in action space)\n",
    "        chosen_action = np.clip(action, env.action_space.low.min(), env.action_space.high.max())\n",
    "        \n",
    "        #self.log_probs = dists.log_prob(torch.tensor(action).detach())\n",
    "        #m = nn.Tanh()\n",
    "        #chosen_action = m(action) * env.action_space.high.max()\n",
    "\n",
    "        return [chosen_action]\n",
    "    \n",
    "    def agent_start(self, state):\n",
    "        \"\"\"The first method called when the experiment starts, called after\n",
    "        the environment starts.\n",
    "        Args:\n",
    "            state (Numpy array): the state observation from the\n",
    "                environment's env.reset() function.\n",
    "        Returns:\n",
    "            The first action the agent takes.\n",
    "        \"\"\"\n",
    "        # Select an action given the current state\n",
    "        current_action = self.select_action(state)\n",
    "\n",
    "        # Save action as last action\n",
    "        self.last_action = current_action\n",
    "        # Save tiles as previous tiles\n",
    "        self.last_state = state\n",
    "        \n",
    "        return self.last_action\n",
    "\n",
    "    def agent_step(self, reward, state):\n",
    "        \"\"\"A step taken by the agent.\n",
    "        Args:\n",
    "            reward (float): the reward received for taking the last action taken\n",
    "            state (Numpy array): the state observation from the\n",
    "                environment's step based, where the agent ended up after the\n",
    "                last step\n",
    "        Returns:\n",
    "            The action the agent is taking.\n",
    "        \"\"\"\n",
    "        # Compute TD values\n",
    "        td_target, td_estimate = get_td(self.last_state, state, reward, 0, self.critic, self.discount)\n",
    "        # TD error calculation\n",
    "        delta = td_target - td_estimate\n",
    "        \n",
    "        # Critic\n",
    "        # zero the gradients buffer\n",
    "        self.critic_opti.zero_grad()\n",
    "        # Compute the  Mean squared value error loss\n",
    "        critic_loss = self.critic_loss(td_estimate.double().to(device), td_target.double().detach().to(device))\n",
    "        #critic_loss = delta**2\n",
    "        # Backprop the error\n",
    "        critic_loss.backward()\n",
    "        # Clip the gradients to 0.5\n",
    "        clip_grad_norm_(self.critic_opti, 0.5)\n",
    "        # Optimize critic's network\n",
    "        self.critic_opti.step()\n",
    "        \n",
    "        # Actor \n",
    "        self.actor_opti.zero_grad()\n",
    "        # Compute mu and sigma\n",
    "        norm_dists = self.actor.forward(self.last_state)\n",
    "        # Construct equivalent loss function\n",
    "        logs_probs = norm_dists.log_prob(torch.tensor(self.last_action))\n",
    "        #entropy = norm_dists.entropy() # - entropy * 0.0001\n",
    "        # Multiply by minus one as this is gradient ascent\n",
    "        actor_loss = -logs_probs * delta.detach() \n",
    "        # Backprop the error\n",
    "        actor_loss.backward()\n",
    "        # Clip the actor's gradients\n",
    "        clip_grad_norm_(self.actor_opti, 0.5)\n",
    "        # Optimize the actor's network\n",
    "        self.actor_opti.step()\n",
    "        \n",
    "        self.actor_loss_val += actor_loss.detach().numpy()\n",
    "        self.critic_loss_val += critic_loss.detach().numpy()\n",
    "        \n",
    "        # Compute new action\n",
    "        current_action = self.select_action(state)\n",
    "\n",
    "        self.last_state = state\n",
    "        self.last_action = current_action\n",
    "\n",
    "        return self.last_action\n",
    "\n",
    "    def agent_end(self, reward):\n",
    "        \"\"\"Run when the agent terminates.\n",
    "        Args:\n",
    "            reward (float): the reward the agent received for entering the\n",
    "                terminal state.\n",
    "        \"\"\"\n",
    "\n",
    "        # There is no action_value used here because this is the end\n",
    "        # of the episode.\n",
    "        \n",
    "        # Create state full of zeroes\n",
    "        state = np.zeros_like(self.last_state)\n",
    "        \n",
    "        # Compute TD values\n",
    "        td_target, td_estimate = get_td(self.last_state, state, reward, 1, self.critic, self.discount)\n",
    "        # TD error\n",
    "        delta = td_target - td_estimate\n",
    "\n",
    "        \n",
    "        # Critic\n",
    "        # zero the gradients buffer\n",
    "        self.critic_opti.zero_grad()\n",
    "        # Compute the  Mean squared value error loss\n",
    "        critic_loss = self.critic_loss(td_estimate.double().to(device), td_target.double().detach().to(device))\n",
    "        #critic_loss = delta**2\n",
    "        # Backprop the error\n",
    "        critic_loss.backward()\n",
    "        # Clip the gradients to 0.5\n",
    "        clip_grad_norm_(self.critic_opti, 0.5)\n",
    "        # Optimize critic's network\n",
    "        self.critic_opti.step()\n",
    "        \n",
    "        # Actor \n",
    "        self.actor_opti.zero_grad()\n",
    "        # Compute mu and sigma\n",
    "        norm_dists = self.actor.forward(self.last_state)\n",
    "        # Construct equivalent loss function\n",
    "        logs_probs = norm_dists.log_prob(torch.tensor(self.last_action))\n",
    "        #entropy = norm_dists.entropy() # - entropy * 0.0001\n",
    "        # Multiply by minus one as this is gradient ascent\n",
    "        actor_loss = -logs_probs * delta.detach() \n",
    "        # Backprop the error\n",
    "        actor_loss.backward()\n",
    "        # Clip the actor's gradients\n",
    "        clip_grad_norm_(self.actor_opti, 0.5)\n",
    "        # Optimize the actor's network\n",
    "        self.actor_opti.step()\n",
    "        \n",
    "        self.actor_loss_val += actor_loss.detach().numpy()\n",
    "        self.critic_loss_val += critic_loss.detach().numpy()"
   ]
  },
  {
   "cell_type": "markdown",
   "metadata": {},
   "source": [
    "## Running the experiment\n",
    "\n",
    "The following lines solves the Pendulum problem and plot the average reward obtained over episodes and steps taken to solve the challenge at a specific episode (The experiment is over every x amount of steps)."
   ]
  },
  {
   "cell_type": "code",
   "execution_count": 8,
   "metadata": {
    "scrolled": false
   },
   "outputs": [
    {
     "name": "stderr",
     "output_type": "stream",
     "text": [
      " 20%|██        | 1/5 [00:02<00:09,  2.40s/it]"
     ]
    },
    {
     "name": "stdout",
     "output_type": "stream",
     "text": [
      "The reward obtained during episode 0 was: -3983.9627931544774\n"
     ]
    },
    {
     "name": "stderr",
     "output_type": "stream",
     "text": [
      "\r",
      " 40%|████      | 2/5 [00:04<00:06,  2.25s/it]"
     ]
    },
    {
     "name": "stdout",
     "output_type": "stream",
     "text": [
      "The reward obtained during episode 1 was: -3458.325131722117\n"
     ]
    },
    {
     "name": "stderr",
     "output_type": "stream",
     "text": [
      "\r",
      " 60%|██████    | 3/5 [00:06<00:04,  2.14s/it]"
     ]
    },
    {
     "name": "stdout",
     "output_type": "stream",
     "text": [
      "The reward obtained during episode 2 was: -3051.398316031341\n"
     ]
    },
    {
     "name": "stderr",
     "output_type": "stream",
     "text": [
      "\r",
      " 80%|████████  | 4/5 [00:08<00:02,  2.09s/it]"
     ]
    },
    {
     "name": "stdout",
     "output_type": "stream",
     "text": [
      "The reward obtained during episode 3 was: -3684.3149144616477\n"
     ]
    },
    {
     "name": "stderr",
     "output_type": "stream",
     "text": [
      "100%|██████████| 5/5 [00:10<00:00,  2.04s/it]"
     ]
    },
    {
     "name": "stdout",
     "output_type": "stream",
     "text": [
      "The reward obtained during episode 4 was: -3788.666687474442\n"
     ]
    },
    {
     "name": "stderr",
     "output_type": "stream",
     "text": [
      "\n"
     ]
    }
   ],
   "source": [
    "# Test the Actor-Critic agent\n",
    "\n",
    "num_runs = 1\n",
    "num_episodes = 5\n",
    "\n",
    "agent_info = {\n",
    "             'network_config': {\n",
    "                 'state_dim': env.observation_space.shape[0],\n",
    "                 'num_hidden_units': 64,\n",
    "                 'num_actions': env.action_space.shape[0]\n",
    "             },\n",
    "             'optimizers_config': {\n",
    "                 'actor_step_size': 1e-7,  #5e-6, 1e-5 \n",
    "                 'critic_step_size': 1e-4, \n",
    "                 'gamma': 0.99, \n",
    "             }}\n",
    "\n",
    "# Variable to store the amount of steps taken to solve the challeng\n",
    "all_steps = []\n",
    "# Variable to save the rewards in an episode\n",
    "all_rewards = []\n",
    "# Save actor and critic losses\n",
    "all_loss_c = []\n",
    "all_loss_a = []\n",
    "\n",
    "# Agent\n",
    "agent = ActorCritic()\n",
    "\n",
    "# Environment\n",
    "env = gym.make('Pendulum-v0')\n",
    "env.reset()\n",
    "# Maximum number of possible iterations (default was 200)\n",
    "env._max_episode_steps = 500\n",
    "\n",
    "# Number of runs are the times the experiment will start again (a.k.a episode)\n",
    "for n_runs in range(num_runs):\n",
    "    \n",
    "    # Resets environment\n",
    "    observation = env.reset()\n",
    "    # Reset agent\n",
    "    agent.agent_init(agent_info)\n",
    "    # Generate last state and action in the agent\n",
    "    last_action = agent.agent_start(observation)\n",
    "    # Steps, rewards and loss at each episode to solve the challenge\n",
    "    steps_per_episode = []\n",
    "    rewards_per_episode = []\n",
    "    loss_per_episode_c = []\n",
    "    loss_per_episode_a = []\n",
    "        \n",
    "    # Times the environment will start again without resetting the agent\n",
    "    for t in tqdm(range(num_episodes)):\n",
    "        \n",
    "        # Reset done flag\n",
    "        done = False\n",
    "        # Set rewards, steps and loss to zero\n",
    "        rewards = 0\n",
    "        n_steps = 0\n",
    "        agent.actor_loss_val = 0\n",
    "        agent.critic_loss_val = 0\n",
    "        # Reset environment\n",
    "        observation = env.reset()\n",
    "        # Run until the experiment is over\n",
    "        while not done:\n",
    "            \n",
    "            # Render the environment \n",
    "            env.render()\n",
    "\n",
    "            # Take a step with the environment\n",
    "            observation, reward, done, info = env.step(last_action)\n",
    "            \n",
    "            rewards += reward\n",
    "            n_steps += 1\n",
    "\n",
    "            # If the goal has been reached stop\n",
    "            if done:\n",
    "                # Last step with the agent\n",
    "                agent.agent_end(reward)\n",
    "            else:\n",
    "                # Take a step with the agent\n",
    "                last_action = agent.agent_step(reward, observation)\n",
    "                \n",
    "        # Append steps taken to solve the episode\n",
    "        steps_per_episode.append(n_steps)\n",
    "        # Reward obtained during the episode\n",
    "        rewards_per_episode.append(rewards)\n",
    "        # Losses obtained solving the experiment\n",
    "        loss_per_episode_c.append(agent.critic_loss_val)\n",
    "        loss_per_episode_a.append(agent.actor_loss_val)\n",
    "        print(\"The reward obtained during episode {0} was: {1}\".format(t, rewards))\n",
    "\n",
    "\n",
    "    # Steps taken to solve the experiment during all\n",
    "    all_steps.append(np.array(steps_per_episode))\n",
    "    # Awards obtained during all episode\n",
    "    all_rewards.append(np.array(rewards_per_episode))\n",
    "    # Losses obtained during all episodes\n",
    "    all_loss_c.append(np.array(loss_per_episode_c))\n",
    "    all_loss_a.append(np.array(loss_per_episode_a))\n",
    "\n",
    "env.close()"
   ]
  },
  {
   "cell_type": "code",
   "execution_count": 9,
   "metadata": {},
   "outputs": [
    {
     "data": {
      "image/png": "[encoded data removed]",
      "text/plain": [
       "<Figure size 432x288 with 1 Axes>"
      ]
     },
     "metadata": {
      "needs_background": "light"
     },
     "output_type": "display_data"
    },
    {
     "name": "stdout",
     "output_type": "stream",
     "text": [
      "The best reward obtained solving the experiment was: -3051.398316031341\n",
      "\n",
      "The WorSt reward obtained solving the experiment was: -3983.9627931544774\n",
      "\n"
     ]
    }
   ],
   "source": [
    "rewards_average = np.mean(all_rewards, axis=0)\n",
    "plt.plot(rewards_average, label = 'Average Reward')\n",
    "plt.xlabel(\"Episodes\")\n",
    "plt.ylabel(\"Sum of\\n rewards\\n during\\n episode\" ,rotation=0, labelpad=40)\n",
    "plt.xlim(-0.2, num_episodes)\n",
    "plt.ylim(rewards_average.min(), rewards_average.max())\n",
    "plt.title(\"Average iterations to solve the experiment over runs\")\n",
    "plt.legend()\n",
    "plt.show()\n",
    "print(\"The best reward obtained solving the experiment was: {0}\\n\".format(np.array(all_rewards).max()))\n",
    "print(\"The WorSt reward obtained solving the experiment was: {0}\\n\".format(np.array(all_rewards).min()))"
   ]
  },
  {
   "cell_type": "code",
   "execution_count": 10,
   "metadata": {},
   "outputs": [
    {
     "data": {
      "image/png": "[encoded data removed]",
      "text/plain": [
       "<Figure size 432x288 with 1 Axes>"
      ]
     },
     "metadata": {
      "needs_background": "light"
     },
     "output_type": "display_data"
    },
    {
     "name": "stdout",
     "output_type": "stream",
     "text": [
      "The best loss obtained solving the experiment was: 24606.060758358683\n",
      "\n",
      "The Worst loss obtained solving the experiment was: 45998.19653555287\n",
      "\n"
     ]
    }
   ],
   "source": [
    "loss_average = np.mean(np.array(all_loss_c), axis=0)\n",
    "plt.plot(loss_average, label = 'Steps')\n",
    "plt.xlabel(\"Episodes\")\n",
    "plt.ylabel(\"Average loss\",rotation=0, labelpad=40)\n",
    "plt.xlim(-0.2, num_episodes)\n",
    "plt.ylim(loss_average.min(), loss_average.max())\n",
    "plt.title(\"Average loss over iterations (Critic)\")\n",
    "plt.legend()\n",
    "plt.show()\n",
    "print(\"The best loss obtained solving the experiment was: {0}\\n\".format(np.array(loss_average).min()))\n",
    "print(\"The Worst loss obtained solving the experiment was: {0}\\n\".format(np.array(loss_average).max()))\n"
   ]
  },
  {
   "cell_type": "code",
   "execution_count": 11,
   "metadata": {},
   "outputs": [
    {
     "data": {
      "image/png": "[encoded data removed]",
      "text/plain": [
       "<Figure size 432x288 with 1 Axes>"
      ]
     },
     "metadata": {
      "needs_background": "light"
     },
     "output_type": "display_data"
    },
    {
     "name": "stdout",
     "output_type": "stream",
     "text": [
      "The best loss obtained solving the experiment was: -3538.77587890625\n",
      "\n",
      "The Worst loss obtained solving the experiment was: -4965.41748046875\n",
      "\n"
     ]
    }
   ],
   "source": [
    "loss_average = np.mean(np.array(all_loss_a), axis=0)\n",
    "plt.plot(loss_average, label = 'Steps')\n",
    "plt.xlabel(\"Episodes\")\n",
    "plt.ylabel(\"Average loss\",rotation=0, labelpad=40)\n",
    "plt.xlim(-0.2, num_episodes)\n",
    "plt.ylim(loss_average.min(), loss_average.max())\n",
    "plt.title(\"Average loss over iterations (Actor)\")\n",
    "plt.legend()\n",
    "plt.show()\n",
    "print(\"The best loss obtained solving the experiment was: {0}\\n\".format(np.array(loss_average).max()))\n",
    "print(\"The Worst loss obtained solving the experiment was: {0}\\n\".format(np.array(loss_average).min()))\n"
   ]
  },
  {
   "cell_type": "markdown",
   "metadata": {},
   "source": [
    "## Using the last trained Agent \n",
    "\n",
    "This lines shows in a video the performance of the last trained agent and save a video with the results."
   ]
  },
  {
   "cell_type": "code",
   "execution_count": 12,
   "metadata": {
    "scrolled": false
   },
   "outputs": [
    {
     "name": "stderr",
     "output_type": "stream",
     "text": [
      "  0%|          | 0/1 [00:00<?, ?it/s]\n",
      "  0%|          | 0/1000 [00:00<?, ?it/s]\u001b[A\n",
      "  1%|          | 9/1000 [00:00<00:12, 81.91it/s]\u001b[A\n",
      "  2%|▏         | 18/1000 [00:00<00:12, 81.74it/s]\u001b[A\n",
      "  3%|▎         | 27/1000 [00:00<00:11, 83.72it/s]\u001b[A\n",
      "  4%|▎         | 37/1000 [00:00<00:11, 86.28it/s]\u001b[A\n",
      "  5%|▍         | 46/1000 [00:00<00:11, 86.14it/s]\u001b[A\n",
      "  6%|▌         | 55/1000 [00:00<00:10, 87.08it/s]\u001b[A\n",
      "  6%|▋         | 65/1000 [00:00<00:10, 88.31it/s]\u001b[A\n",
      "  7%|▋         | 74/1000 [00:00<00:10, 87.72it/s]\u001b[A\n",
      "  8%|▊         | 83/1000 [00:00<00:10, 87.57it/s]\u001b[A\n",
      "  9%|▉         | 92/1000 [00:01<00:10, 84.71it/s]\u001b[A\n",
      " 10%|█         | 101/1000 [00:01<00:10, 82.15it/s]\u001b[A\n",
      " 11%|█         | 110/1000 [00:01<00:10, 82.25it/s]\u001b[A\n",
      " 12%|█▏        | 119/1000 [00:01<00:10, 82.94it/s]\u001b[A\n",
      " 13%|█▎        | 128/1000 [00:01<00:10, 81.36it/s]\u001b[A\n",
      " 14%|█▎        | 137/1000 [00:01<00:10, 81.92it/s]\u001b[A\n",
      " 15%|█▍        | 146/1000 [00:01<00:10, 83.27it/s]\u001b[A\n",
      " 16%|█▌        | 155/1000 [00:01<00:09, 84.73it/s]\u001b[A\n",
      " 16%|█▋        | 164/1000 [00:01<00:10, 83.50it/s]\u001b[A\n",
      " 17%|█▋        | 173/1000 [00:02<00:10, 82.38it/s]\u001b[A\n",
      " 18%|█▊        | 182/1000 [00:02<00:10, 80.62it/s]\u001b[A\n",
      " 19%|█▉        | 191/1000 [00:02<00:09, 82.63it/s]\u001b[A\n",
      " 20%|██        | 200/1000 [00:02<00:09, 84.41it/s]\u001b[A\n",
      " 21%|██        | 210/1000 [00:02<00:09, 86.27it/s]\u001b[A\n",
      " 22%|██▏       | 220/1000 [00:02<00:08, 87.33it/s]\u001b[A\n",
      " 23%|██▎       | 229/1000 [00:02<00:08, 88.06it/s]\u001b[A\n",
      " 24%|██▍       | 238/1000 [00:02<00:08, 88.43it/s]\u001b[A\n",
      " 25%|██▍       | 247/1000 [00:02<00:08, 87.46it/s]\u001b[A\n",
      " 26%|██▌       | 256/1000 [00:03<00:08, 87.72it/s]\u001b[A\n",
      " 26%|██▋       | 265/1000 [00:03<00:08, 86.75it/s]\u001b[A\n",
      " 27%|██▋       | 274/1000 [00:03<00:08, 85.98it/s]\u001b[A\n",
      " 28%|██▊       | 283/1000 [00:03<00:08, 85.65it/s]\u001b[A\n",
      " 29%|██▉       | 292/1000 [00:03<00:08, 83.86it/s]\u001b[A\n",
      " 30%|███       | 302/1000 [00:03<00:08, 85.82it/s]\u001b[A\n",
      " 31%|███       | 311/1000 [00:03<00:07, 86.60it/s]\u001b[A\n",
      " 32%|███▏      | 320/1000 [00:03<00:07, 87.16it/s]\u001b[A\n",
      " 33%|███▎      | 329/1000 [00:03<00:07, 87.41it/s]\u001b[A\n",
      " 34%|███▍      | 338/1000 [00:03<00:07, 87.92it/s]\u001b[A\n",
      " 35%|███▍      | 347/1000 [00:04<00:07, 88.22it/s]\u001b[A\n",
      " 36%|███▌      | 357/1000 [00:04<00:07, 89.38it/s]\u001b[A\n",
      " 37%|███▋      | 366/1000 [00:04<00:07, 89.48it/s]\u001b[A\n",
      " 38%|███▊      | 375/1000 [00:04<00:07, 87.43it/s]\u001b[A\n",
      " 38%|███▊      | 384/1000 [00:04<00:07, 86.10it/s]\u001b[A\n",
      " 39%|███▉      | 393/1000 [00:04<00:07, 86.34it/s]\u001b[A\n",
      " 40%|████      | 402/1000 [00:04<00:06, 87.31it/s]\u001b[A\n",
      " 41%|████      | 411/1000 [00:04<00:06, 86.62it/s]\u001b[A\n",
      " 42%|████▏     | 420/1000 [00:04<00:06, 85.38it/s]\u001b[A\n",
      " 43%|████▎     | 429/1000 [00:05<00:06, 84.51it/s]\u001b[A\n",
      " 44%|████▍     | 438/1000 [00:05<00:06, 85.05it/s]\u001b[A\n",
      " 45%|████▍     | 448/1000 [00:05<00:06, 87.12it/s]\u001b[A\n",
      " 46%|████▌     | 457/1000 [00:05<00:06, 87.96it/s]\u001b[A\n",
      " 47%|████▋     | 467/1000 [00:05<00:06, 88.63it/s]\u001b[A\n",
      " 48%|████▊     | 476/1000 [00:05<00:05, 88.78it/s]\u001b[A\n",
      " 48%|████▊     | 485/1000 [00:05<00:05, 86.64it/s]\u001b[A\n",
      " 49%|████▉     | 494/1000 [00:05<00:05, 86.13it/s]\u001b[A\n",
      " 50%|█████     | 503/1000 [00:05<00:05, 85.02it/s]\u001b[A\n",
      " 51%|█████     | 512/1000 [00:05<00:05, 84.39it/s]\u001b[A\n",
      " 52%|█████▏    | 521/1000 [00:06<00:05, 84.07it/s]\u001b[A\n",
      " 53%|█████▎    | 530/1000 [00:06<00:05, 84.55it/s]\u001b[A\n",
      " 54%|█████▍    | 539/1000 [00:06<00:05, 83.05it/s]\u001b[A\n",
      " 55%|█████▍    | 548/1000 [00:06<00:05, 81.52it/s]\u001b[A\n",
      " 56%|█████▌    | 557/1000 [00:06<00:05, 80.82it/s]\u001b[A\n",
      " 57%|█████▋    | 566/1000 [00:06<00:05, 81.71it/s]\u001b[A\n",
      " 57%|█████▊    | 575/1000 [00:06<00:05, 81.63it/s]\u001b[A\n",
      " 58%|█████▊    | 584/1000 [00:06<00:05, 81.52it/s]\u001b[A\n",
      " 59%|█████▉    | 593/1000 [00:06<00:05, 80.90it/s]\u001b[A\n",
      " 60%|██████    | 602/1000 [00:07<00:04, 80.82it/s]\u001b[A\n",
      " 61%|██████    | 611/1000 [00:07<00:04, 80.33it/s]\u001b[A\n",
      " 62%|██████▏   | 620/1000 [00:07<00:04, 81.19it/s]\u001b[A\n",
      " 63%|██████▎   | 629/1000 [00:07<00:04, 79.58it/s]\u001b[A\n",
      " 64%|██████▎   | 637/1000 [00:07<00:04, 79.31it/s]\u001b[A\n",
      " 64%|██████▍   | 645/1000 [00:07<00:04, 78.26it/s]\u001b[A\n",
      " 65%|██████▌   | 654/1000 [00:07<00:04, 79.31it/s]\u001b[A\n",
      " 66%|██████▋   | 663/1000 [00:07<00:04, 80.11it/s]\u001b[A\n",
      " 67%|██████▋   | 672/1000 [00:07<00:04, 79.33it/s]\u001b[A\n",
      " 68%|██████▊   | 681/1000 [00:08<00:04, 79.70it/s]\u001b[A\n",
      " 69%|██████▉   | 690/1000 [00:08<00:03, 80.12it/s]\u001b[A\n",
      " 70%|██████▉   | 699/1000 [00:08<00:03, 80.00it/s]\u001b[A\n",
      " 71%|███████   | 708/1000 [00:08<00:03, 79.29it/s]\u001b[A\n",
      " 72%|███████▏  | 717/1000 [00:08<00:03, 81.76it/s]\u001b[A\n",
      " 73%|███████▎  | 726/1000 [00:08<00:03, 83.96it/s]\u001b[A\n",
      " 74%|███████▎  | 736/1000 [00:08<00:03, 85.49it/s]\u001b[A\n",
      " 74%|███████▍  | 745/1000 [00:08<00:02, 86.02it/s]\u001b[A\n",
      " 75%|███████▌  | 754/1000 [00:08<00:02, 85.36it/s]\u001b[A\n",
      " 76%|███████▋  | 763/1000 [00:09<00:02, 86.07it/s]\u001b[A\n",
      " 77%|███████▋  | 772/1000 [00:09<00:02, 85.73it/s]\u001b[A\n",
      " 78%|███████▊  | 781/1000 [00:09<00:02, 84.16it/s]\u001b[A\n",
      " 79%|███████▉  | 790/1000 [00:09<00:02, 83.15it/s]\u001b[A\n",
      " 80%|███████▉  | 799/1000 [00:09<00:02, 83.48it/s]\u001b[A\n",
      " 81%|████████  | 808/1000 [00:09<00:02, 84.25it/s]\u001b[A\n",
      " 82%|████████▏ | 817/1000 [00:09<00:02, 83.56it/s]\u001b[A\n",
      " 83%|████████▎ | 826/1000 [00:09<00:02, 83.92it/s]\u001b[A\n",
      " 84%|████████▎ | 835/1000 [00:09<00:01, 85.24it/s]\u001b[A\n",
      " 84%|████████▍ | 844/1000 [00:09<00:01, 86.51it/s]\u001b[A\n",
      " 85%|████████▌ | 854/1000 [00:10<00:01, 87.78it/s]\u001b[A\n",
      " 86%|████████▋ | 863/1000 [00:10<00:01, 87.65it/s]\u001b[A\n",
      " 87%|████████▋ | 872/1000 [00:10<00:01, 88.27it/s]\u001b[A\n",
      " 88%|████████▊ | 881/1000 [00:10<00:01, 88.10it/s]\u001b[A\n",
      " 89%|████████▉ | 890/1000 [00:10<00:01, 86.28it/s]\u001b[A\n",
      " 90%|████████▉ | 899/1000 [00:10<00:01, 86.58it/s]\u001b[A\n",
      " 91%|█████████ | 908/1000 [00:10<00:01, 87.46it/s]\u001b[A\n",
      " 92%|█████████▏| 917/1000 [00:10<00:00, 87.69it/s]\u001b[A\n",
      " 93%|█████████▎| 926/1000 [00:10<00:00, 87.72it/s]\u001b[A\n",
      " 94%|█████████▎| 935/1000 [00:11<00:00, 87.95it/s]\u001b[A\n",
      " 94%|█████████▍| 944/1000 [00:11<00:00, 87.37it/s]\u001b[A\n",
      " 95%|█████████▌| 954/1000 [00:11<00:00, 88.42it/s]\u001b[A\n",
      " 96%|█████████▋| 963/1000 [00:11<00:00, 88.49it/s]\u001b[A\n",
      " 97%|█████████▋| 972/1000 [00:11<00:00, 87.71it/s]\u001b[A\n",
      " 98%|█████████▊| 981/1000 [00:11<00:00, 87.25it/s]\u001b[A\n",
      " 99%|█████████▉| 990/1000 [00:11<00:00, 87.34it/s]\u001b[A\n",
      "100%|██████████| 1000/1000 [00:11<00:00, 84.94it/s][A\n",
      "100%|██████████| 1/1 [00:11<00:00, 11.92s/it]"
     ]
    },
    {
     "name": "stdout",
     "output_type": "stream",
     "text": [
      "Episode finished after 1000 timesteps\n"
     ]
    },
    {
     "name": "stderr",
     "output_type": "stream",
     "text": [
      "\n"
     ]
    }
   ],
   "source": [
    "# Test Sarsa Agent \n",
    "num_runs = 1\n",
    "num_episodes = 1000\n",
    "\n",
    "# Environment\n",
    "env_to_wrap = gym.make('Pendulum-v0')\n",
    "# Maximum number of possible iterations (default was 200)\n",
    "env_to_wrap._max_episode_steps = 1500\n",
    "env = Monitor(env_to_wrap, \"./videos/pendulum\", video_callable=lambda episode_id: True, force=True)\n",
    "\n",
    "\n",
    "# Number of runs are the times the experiment will start again (a.k.a episode)\n",
    "for n_runs in tqdm(range(num_runs)):\n",
    "    \n",
    "    # Resets environment\n",
    "    observation = env.reset()\n",
    "    # Generate last state and action in the agent\n",
    "    last_action = agent.agent_start(observation)\n",
    "        \n",
    "    # Times the environment will start again without resetting the agent\n",
    "    for t in tqdm(range(num_episodes)):\n",
    "\n",
    "        # View environment\n",
    "        env.render()\n",
    "\n",
    "        # Take a step with the environment\n",
    "        observation, reward, done, info = env.step(last_action)\n",
    "\n",
    "        # If the goal has been reached stop\n",
    "        if done:\n",
    "            # Last step with the agent\n",
    "            agent.agent_end(reward)\n",
    "            break\n",
    "\n",
    "        else:\n",
    "            # Take a step with the agent\n",
    "            last_action = agent.agent_step(reward, observation)\n",
    "\n",
    "\n",
    "env.close()\n",
    "env_to_wrap.close()\n",
    "\n",
    "print(\"Episode finished after {} timesteps\".format(t+1))"
   ]
  }
 ],
 "metadata": {
  "kernelspec": {
   "display_name": "Python 3",
   "language": "python",
   "name": "python3"
  },
  "language_info": {
   "codemirror_mode": {
    "name": "ipython",
    "version": 3
   },
   "file_extension": ".py",
   "mimetype": "text/x-python",
   "name": "python",
   "nbconvert_exporter": "python",
   "pygments_lexer": "ipython3",
   "version": "3.7.7"
  }
 },
 "nbformat": 4,
 "nbformat_minor": 4
}
