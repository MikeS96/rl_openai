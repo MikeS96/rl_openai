{
 "cells": [
  {
   "cell_type": "markdown",
   "metadata": {},
   "source": [
    "# Episodic Mountain Car function appoximation and control"
   ]
  },
  {
   "cell_type": "markdown",
   "metadata": {},
   "source": [
    "This Notebook is intended to solve the Episodic Mountain car problem using Semi-gradient sarsa and Tile Coding.\n",
    "\n",
    "The description of the problem is given below:\n",
    "\n",
    "\"A car is on a one-dimensional track, positioned between two \"mountains\". The goal is to drive up the mountain on the right; however, the car's engine is not strong enough to scale the mountain in a single pass. Therefore, the only way to succeed is to drive back and forth to build up momentum.\" \n",
    "\n",
    "<img src=\"./assets/car.png\" width=\"380\" />\n",
    "\n",
    "An extensive description and solution of the problem can be seen here [Section 10.1 Reinforment Learning an Introduction](http://www.incompleteideas.net/book/RLbook2018.pdf#page=267)\n",
    "\n",
    "Image and Text taken from Taken from [Official documentaiton Mountain car](https://gym.openai.com/envs/MountainCar-v0/)."
   ]
  },
  {
   "cell_type": "code",
   "execution_count": 1,
   "metadata": {},
   "outputs": [],
   "source": [
    "import numpy as np\n",
    "import matplotlib.pyplot as plt\n",
    "import tiles3 as tc\n",
    "from tqdm import tqdm\n",
    "\n",
    "import gym\n",
    "from gym.wrappers import Monitor\n",
    "from utils import *\n",
    "\n",
    "%matplotlib inline"
   ]
  },
  {
   "cell_type": "markdown",
   "metadata": {},
   "source": [
    "## Undestanding the Workflow of OpenAI\n",
    "\n",
    "The following variables are used at each timestep and they are returned by the Mountain Car environment. "
   ]
  },
  {
   "cell_type": "markdown",
   "metadata": {},
   "source": [
    "\n",
    "- **observation** (object): an environment-specific object representing your observation of the environment. For example, pixel data from a camera, joint angles and joint velocities of a robot, or the board state in a board game.\n",
    "- **reward** (float): amount of reward achieved by the previous action. The scale varies between environments, but the goal is always to increase your total reward.\n",
    "- **done** (boolean): whether it’s time to reset the environment again. Most (but not all) tasks are divided up into well-defined episodes, and done being True indicates the episode has terminated. (For example, perhaps the pole tipped too far, or you lost your last life.)\n",
    "- **info** (dict): diagnostic information useful for debugging. It can sometimes be useful for learning (for example, it might contain the raw probabilities behind the environment’s last state change). However, official evaluations of your agent are not allowed to use this for learning.\n"
   ]
  },
  {
   "cell_type": "markdown",
   "metadata": {},
   "source": [
    "As a quick recap, the diagram below explains the workflow of a Markov Decision Process (MDP)\n",
    "\n",
    "<img src=\"./assets/MDP.png\" width=\"380\" />\n",
    "\n",
    "Image taken from [Section 3.1 Reinforment Learning an Introduction](http://www.incompleteideas.net/book/RLbook2018.pdf#page=70)"
   ]
  },
  {
   "cell_type": "markdown",
   "metadata": {},
   "source": [
    "## Environment and Agent specifications\n",
    "\n",
    "Below are presented the main features of the environment and agent. Overall, the action space of the problem is discrete with three posible actions. The observations or state space is continuios, therefore it is necessary to use a function approximation technique to solve this challenge. The agent receives a reward of -1 at each timestep unless it reaches the goal. The episode ends if the agent reaches the goal or a specific number of iterations are done. Additionally, the agent will always start at a random position between $-0.6$ and $-0.4$ with zero velocity."
   ]
  },
  {
   "cell_type": "markdown",
   "metadata": {},
   "source": [
    "**Observation**: \n",
    "\n",
    "     Type:  Box(2)\n",
    "     Num    Observation               Min            Max\n",
    "     0      Car Position              -1.2           0.6\n",
    "     1      Car Velocity              -0.07          0.07\n",
    "         \n",
    "**Actions**:\n",
    "\n",
    "     Type: Discrete(3)\n",
    "     Num    Action\n",
    "     0      Accelerate to the Left\n",
    "     1      Don't accelerate\n",
    "     2      Accelerate to the Right\n",
    "\n",
    "     Note: This does not affect the amount of velocity affected by the gravitational pull acting on the car\n",
    "        \n",
    "**Reward**:\n",
    "\n",
    "     Reward of 0 is awarded if the agent reached the flag(position = 0.5) on top of the mountain\n",
    "     Reward of -1 is awarded if the position of the agent is less than 0.5\n",
    "        \n",
    "**Starting State**:\n",
    "\n",
    "     The position of the car is assigned a uniform random value in [-0.6 , -0.4]\n",
    "     The velocity of the car is always assigned to 0\n",
    "        \n",
    "**Episode Termination**:\n",
    "\n",
    "     The car position is more than 0.5\n",
    "     Episode length is greater than 200\n",
    "     \n",
    "For further information see [Github source code](https://github.com/openai/gym/blob/master/gym/envs/classic_control/mountain_car.py)"
   ]
  },
  {
   "cell_type": "markdown",
   "metadata": {},
   "source": [
    "The next cell aims to show how to iterate with the action and observation space of the agent and extract relevant information from it"
   ]
  },
  {
   "cell_type": "code",
   "execution_count": 2,
   "metadata": {},
   "outputs": [
    {
     "name": "stdout",
     "output_type": "stream",
     "text": [
      "The Action Space is an object of type: Discrete(3)\n",
      "\n",
      "The shape of the action space is: 3\n",
      "\n",
      "The Environment Space is an object of type: Box(2,)\n",
      "\n",
      "The Shape of the dimension Space are: (2,)\n",
      "\n",
      "The High values in the observation space are [0.6  0.07], the low values are [-1.2  -0.07]\n",
      "\n",
      "The minimum and maximum car's position are: -1.2000000476837158, 0.6000000238418579\n",
      "\n",
      "The minimum and maximum car's velocity are: -0.07000000029802322, 0.07000000029802322\n",
      "\n",
      "The Observations at a given timestep are [-0.06817169 -0.06478962]\n",
      "\n"
     ]
    }
   ],
   "source": [
    "env = gym.make(\"MountainCar-v0\")\n",
    "observation = env.reset() \n",
    "\n",
    "# Object's type in the action Space\n",
    "print(\"The Action Space is an object of type: {0}\\n\".format(env.action_space))\n",
    "# Shape of the action Space\n",
    "print(\"The shape of the action space is: {0}\\n\".format(env.action_space.n))\n",
    "# Object's type in the Observation Space\n",
    "print(\"The Environment Space is an object of type: {0}\\n\".format(env.observation_space))\n",
    "# Shape of the observation space\n",
    "print(\"The Shape of the dimension Space are: {0}\\n\".format(env.observation_space.shape))\n",
    "# The high and low values in the observation space\n",
    "print(\"The High values in the observation space are {0}, the low values are {1}\\n\".format(\n",
    "    env.observation_space.high, env.observation_space.low))\n",
    "# Minimum and Maximum car position\n",
    "print(\"The minimum and maximum car's position are: {0}, {1}\\n\".format(\n",
    "    env.observation_space.low[0], env.observation_space.high[0]))\n",
    "# Minimum and Maximum car velocity\n",
    "print(\"The minimum and maximum car's velocity are: {0}, {1}\\n\".format(\n",
    "    env.observation_space.low[1], env.observation_space.high[1]))\n",
    "# Example of observation\n",
    "print(\"The Observations at a given timestep are {0}\\n\".format(env.observation_space.sample()))"
   ]
  },
  {
   "cell_type": "markdown",
   "metadata": {},
   "source": [
    "# Tile Coding Class"
   ]
  },
  {
   "cell_type": "markdown",
   "metadata": {},
   "source": [
    "For a complete explanation about what is tile coding and how it works, see [Section 9.5.4 of Reinforment Learning an Introduction](http://www.incompleteideas.net/book/RLbook2018.pdf#page=239). Overall, this is a way to create features that can both provide good generalization and discrimination for value function approximation. Tile coding consists of multiple overlapping tiling, where each tiling is a partitioning of the space into tiles.\n",
    "\n",
    "<img src=\"./assets/tilecoding.png\" width=\"640\" />\n",
    "\n",
    "**Note**: Tile coding can be only be used with 2d observation spaces.\n",
    "\n",
    "This technique is implemented using Tiles3, which is a python library written by Richard S. Sutton. For the full documentation see [Tiles3 documentation](http://incompleteideas.net/tiles/tiles3.html)\n",
    "\n",
    "Image taken from [Section 9.5.4 of Reinforment Learning an Introduction](http://www.incompleteideas.net/book/RLbook2018.pdf#page=239)"
   ]
  },
  {
   "cell_type": "code",
   "execution_count": 3,
   "metadata": {},
   "outputs": [],
   "source": [
    "# Tile Coding Class\n",
    "class MountainCarTileCoder:\n",
    "    def __init__(self, iht_size=4096, num_tilings=8, num_tiles=8):\n",
    "        \"\"\"\n",
    "        Initializes the MountainCar Tile Coder\n",
    "        Initializers:\n",
    "        iht_size -- int, the size of the index hash table, typically a power of 2\n",
    "        num_tilings -- int, the number of tilings\n",
    "        num_tiles -- int, the number of tiles. Here both the width and height of the\n",
    "                     tile coder are the same\n",
    "        Class Variables:\n",
    "        self.iht -- tc.IHT, the index hash table that the tile coder will use\n",
    "        self.num_tilings -- int, the number of tilings the tile coder will use\n",
    "        self.num_tiles -- int, the number of tiles the tile coder will use\n",
    "        \"\"\"\n",
    "        self.iht = tc.IHT(iht_size)\n",
    "        self.num_tilings = num_tilings\n",
    "        self.num_tiles = num_tiles\n",
    "    \n",
    "    def get_tiles(self, position, velocity):\n",
    "        \"\"\"\n",
    "        Takes in a position and velocity from the mountaincar environment\n",
    "        and returns a numpy array of active tiles.\n",
    "        \n",
    "        Arguments:\n",
    "        position -- float, the position of the agent between -1.2 and 0.5\n",
    "        velocity -- float, the velocity of the agent between -0.07 and 0.07\n",
    "        returns:\n",
    "        tiles - np.array, active tiles\n",
    "        \"\"\"\n",
    "        # Set the max and min of position and velocity to scale the input\n",
    "        # The max position is set to 0.5 as this is the position to end the experiment\n",
    "        POSITION_MIN = -1.2\n",
    "        POSITION_MAX = 0.5\n",
    "        VELOCITY_MIN = -0.07\n",
    "        VELOCITY_MAX = 0.07\n",
    "        \n",
    "        # Scale position and velocity by multiplying the inputs of each by their scale\n",
    "        position_scale = self.num_tiles / (POSITION_MAX - POSITION_MIN)\n",
    "        velocity_scale = self.num_tiles / (VELOCITY_MAX - VELOCITY_MIN)\n",
    "        \n",
    "        # Obtain active tiles for current position and velocity\n",
    "        tiles = tc.tiles(self.iht, self.num_tilings, [position * position_scale, \n",
    "                                                      velocity * velocity_scale])\n",
    "        \n",
    "        return np.array(tiles)"
   ]
  },
  {
   "cell_type": "code",
   "execution_count": 4,
   "metadata": {},
   "outputs": [
    {
     "name": "stdout",
     "output_type": "stream",
     "text": [
      "The Tiles obtained are: [0 1 2 3 4 5 6 7]\n",
      "\n"
     ]
    }
   ],
   "source": [
    "# Test the TileCoder class\n",
    "mctc = MountainCarTileCoder(iht_size = 1024, num_tilings = 8, num_tiles = 8)\n",
    "tiles = mctc.get_tiles(position = -1.0, velocity = 0.01)\n",
    "# Tiles obtained at a random pos and vel\n",
    "print(\"The Tiles obtained are: {0}\\n\".format(tiles))"
   ]
  },
  {
   "cell_type": "markdown",
   "metadata": {},
   "source": [
    "# Implementing Sarsa Agent"
   ]
  },
  {
   "cell_type": "markdown",
   "metadata": {},
   "source": [
    "To solve the Mountain Car problem, Value Function approximation and control will be used (Owing to the continuous state space). As a quick recap, Action-values can be computed using value function approximation giving the following equation.\n",
    "\n",
    "\\begin{equation} \n",
    "q_\\pi(s) \\approx \\hat{q}(s, a, w) \\doteq w^T x(s,a)\n",
    "\\end{equation}\n",
    "\n",
    "Where $w$ are a set of weights and $x(s,a)$ are the features vector which are computed using tile coding.\n",
    "\n",
    "Using the Tile coder implemented above it is possible to compute the action-values $\\hat{q}(s, a, w)$ and solve this RL task. \n",
    "\n",
    "The equation to update the weights using the Sarsa algorithm is given below. Here, $\\nabla \\hat{q}(S_t, A_t, w)$ is the gradient of the action-values approximation but as $x(s,a)$ is a linear function, the gradient is one only for the active features.\n",
    "\n",
    "\\begin{equation} \n",
    "w \\leftarrow w + \\alpha[R_{t+1} + \\gamma \\hat{q}(S_{t+1}, A_{t+1}, w)- \\hat{q}(S_t, A_t, w)]\\nabla \\hat{q}(S_t, A_t, w)\n",
    "\\end{equation}\n",
    "\n",
    "Additionally, the update \"Target\" is composed of the following terms:\n",
    "\n",
    "\\begin{equation} \n",
    "\\delta \\leftarrow R_{t+1} + \\gamma \\hat{q}(S_{t+1}, A_{t+1}, w)\n",
    "\\end{equation}\n",
    "\n",
    "\\begin{equation} \n",
    "w \\leftarrow w + \\alpha[\\delta - \\hat{q}(S_t, A_t, w)]\\nabla \\hat{q}(S_t, A_t, w)\n",
    "\\end{equation}\n",
    "\n",
    "The Pseudo-code implementation of this algorithm is given below.\n",
    "\n",
    "<img src=\"./assets/pseudocode.png\" width=\"480\" />\n",
    "\n",
    "\n",
    "For further details, see [Section 9.5.4 of Reinforment Learning an Introduction](http://www.incompleteideas.net/book/RLbook2018.pdf#page=266). Image taken from the last reference."
   ]
  },
  {
   "cell_type": "code",
   "execution_count": 5,
   "metadata": {},
   "outputs": [],
   "source": [
    "# SARSA\n",
    "class SarsaAgent():\n",
    "    \"\"\"\n",
    "    Initialization of Sarsa Agent. All values are set to None so they can\n",
    "    be initialized in the agent_init method.\n",
    "    \"\"\"\n",
    "    def __init__(self, agent_info={}):\n",
    "        \"\"\"Setup for the agent called when the experiment first starts.\"\"\"\n",
    "        self.last_action = None\n",
    "        self.last_state = None\n",
    "        self.epsilon = None\n",
    "        self.gamma = None\n",
    "        self.iht_size = None\n",
    "        self.w = None\n",
    "        self.alpha = None\n",
    "        self.num_tilings = None\n",
    "        self.num_tiles = None\n",
    "        self.mctc = None\n",
    "        self.initial_weights = None\n",
    "        self.num_actions = None\n",
    "        self.previous_tiles = None\n",
    "\n",
    "    def agent_init(self, agent_info={}):\n",
    "        \"\"\"Setup for the agent called when the experiment first starts.\"\"\"\n",
    "        self.num_tilings = agent_info.get(\"num_tilings\", 8)\n",
    "        self.num_tiles = agent_info.get(\"num_tiles\", 8)\n",
    "        self.iht_size = agent_info.get(\"iht_size\", 4096)\n",
    "        self.epsilon = agent_info.get(\"epsilon\", 0.0)\n",
    "        self.gamma = agent_info.get(\"gamma\", 1.0)\n",
    "        self.alpha = agent_info.get(\"alpha\", 0.5) / self.num_tilings\n",
    "        self.initial_weights = agent_info.get(\"initial_weights\", 0.0)\n",
    "        self.num_actions = agent_info.get(\"num_actions\", 3)\n",
    "        \n",
    "        # Initialize self.w to three times the iht_size. Recall this is because\n",
    "        # we need to have one set of weights for each action (Stacked values).\n",
    "        self.w = np.ones((self.num_actions, self.iht_size)) * self.initial_weights\n",
    "        \n",
    "        # Initialize self.mctc to the mountaincar verions of the  tile coder created\n",
    "        self.mctc = MountainCarTileCoder(iht_size = self.iht_size, \n",
    "                                         num_tilings = self.num_tilings, \n",
    "                                         num_tiles = self.num_tiles)\n",
    "\n",
    "    def select_action(self, tiles):\n",
    "        \"\"\"\n",
    "        Selects an action using epsilon greedy\n",
    "        Args:\n",
    "        tiles - np.array, an array of active tiles\n",
    "        Returns:\n",
    "        (chosen_action, action_value) - (int, float), tuple of the chosen action\n",
    "                                        and it's value\n",
    "        \"\"\"\n",
    "        action_values = []\n",
    "        chosen_action = None\n",
    "        \n",
    "        # Obtain action values for all actions (sum through rows)\n",
    "        action_values = np.sum(self.w[:, tiles], axis = 1)\n",
    "        \n",
    "        # Epsilon Greedy action selecion\n",
    "        if np.random.random() < self.epsilon:\n",
    "            # Select random action among the three posible actions\n",
    "            chosen_action = np.random.randint(self.num_actions)\n",
    "        else:\n",
    "            # Select the greedy action\n",
    "            chosen_action = argmax(action_values)\n",
    "        \n",
    "        return chosen_action, action_values[chosen_action]\n",
    "    \n",
    "    def agent_start(self, state):\n",
    "        \"\"\"The first method called when the experiment starts, called after\n",
    "        the environment starts.\n",
    "        Args:\n",
    "            state (Numpy array): the state observation from the\n",
    "                environment's env.reset() function.\n",
    "        Returns:\n",
    "            The first action the agent takes.\n",
    "        \"\"\"\n",
    "        # Current state\n",
    "        position, velocity = state\n",
    "        \n",
    "        # Obtain tiles activated at state cero\n",
    "        active_tiles = self.mctc.get_tiles(position = position, velocity = velocity)\n",
    "        # Select an action and obtain action values of the state\n",
    "        current_action, action_value = self.select_action(active_tiles)\n",
    "        \n",
    "        # Save action as last action\n",
    "        self.last_action = current_action\n",
    "        # Save tiles as previous tiles\n",
    "        self.previous_tiles = np.copy(active_tiles)\n",
    "        \n",
    "        return self.last_action\n",
    "\n",
    "    def agent_step(self, reward, state):\n",
    "        \"\"\"A step taken by the agent.\n",
    "        Args:\n",
    "            reward (float): the reward received for taking the last action taken\n",
    "            state (Numpy array): the state observation from the\n",
    "                environment's step based, where the agent ended up after the\n",
    "                last step\n",
    "        Returns:\n",
    "            The action the agent is taking.\n",
    "        \"\"\"\n",
    "        # Current state\n",
    "        position, velocity = state\n",
    "\n",
    "        # Compute current tiles\n",
    "        active_tiles = self.mctc.get_tiles(position = position, velocity = velocity)\n",
    "        # Obtain new action and action value before updating actition values\n",
    "        current_action, action_value = self.select_action(active_tiles)\n",
    "        \n",
    "        # Update the Sarsa Target (delta)\n",
    "        target = reward + (self.gamma * action_value)\n",
    "        \n",
    "        # Compute last action values to update weights\n",
    "        last_action_val = np.sum(self.w[self.last_action][self.previous_tiles]) \n",
    "        \n",
    "        # As we are using tile coding, which is a variant of linear function approximation\n",
    "        # The gradient of the active tiles are one, otherwise cero.\n",
    "        grad = 1\n",
    "        self.w[self.last_action][self.previous_tiles] = self.w[self.last_action][self.previous_tiles] + \\\n",
    "            self.alpha * (target - last_action_val) * grad\n",
    "                \n",
    "        self.last_action = current_action\n",
    "        self.previous_tiles = np.copy(active_tiles)\n",
    "        return self.last_action\n",
    "\n",
    "    def agent_end(self, reward):\n",
    "        \"\"\"Run when the agent terminates.\n",
    "        Args:\n",
    "            reward (float): the reward the agent received for entering the\n",
    "                terminal state.\n",
    "        \"\"\"\n",
    "\n",
    "        # There is no action_value used here because this is the end\n",
    "        # of the episode.\n",
    "        \n",
    "        # Compute delta\n",
    "        target = reward \n",
    "        # Compute last action value\n",
    "        last_action_val = np.sum(self.w[self.last_action][self.previous_tiles])\n",
    "        grad = 1\n",
    "        # Update weights\n",
    "        self.w[self.last_action][self.previous_tiles] = self.w[self.last_action][self.previous_tiles] + \\\n",
    "            self.alpha * (target - last_action_val) * grad\n",
    "        "
   ]
  },
  {
   "cell_type": "markdown",
   "metadata": {},
   "source": [
    "## Running the experiment\n",
    "\n",
    "The following lines solves the Mountain Car problem and plot the average reward obtained over episodes and steps taken to solve the challenge at a specific episode."
   ]
  },
  {
   "cell_type": "code",
   "execution_count": 6,
   "metadata": {},
   "outputs": [
    {
     "name": "stderr",
     "output_type": "stream",
     "text": [
      "100%|██████████| 10/10 [00:16<00:00,  1.60s/it]\n"
     ]
    }
   ],
   "source": [
    "# Test Sarsa Agent \n",
    "num_runs = 10\n",
    "num_episodes = 30\n",
    "agent_info_options = {\"num_tilings\": 8, \"num_tiles\": 8, \"iht_size\": 4096,\n",
    "                      \"epsilon\": 0.0, \"gamma\": 1.0, \"alpha\": 0.5,\n",
    "                      \"initial_weights\": 0.0, \"num_actions\": 3}\n",
    "\n",
    "# Variable to store the amount of steps taken to solve the challeng\n",
    "all_steps = []\n",
    "# Variable to save the rewards in an episode\n",
    "all_rewards = []\n",
    "\n",
    "# Agent\n",
    "agent = SarsaAgent(agent_info_options)\n",
    "\n",
    "# Environment\n",
    "env = gym.make('MountainCar-v0')\n",
    "env.reset()\n",
    "# Maximum number of possible iterations (default was 200)\n",
    "env._max_episode_steps = 10000\n",
    "\n",
    "# Number of runs are the times the experiment will start again (a.k.a episode)\n",
    "for n_runs in tqdm(range(num_runs)):\n",
    "    \n",
    "    # Resets environment\n",
    "    observation = env.reset()\n",
    "    # Reset agent\n",
    "    agent.agent_init(agent_info_options)\n",
    "    # Generate last state and action in the agent\n",
    "    last_action = agent.agent_start(observation)\n",
    "    # Steps taken at each episode to solve the challenge\n",
    "    steps_per_episode = []\n",
    "    rewards_per_episode = []\n",
    "        \n",
    "    # Times the environment will start again without resetting the agent\n",
    "    for t in range(num_episodes):\n",
    "        # Store number of steps taken to solve experiment\n",
    "        n_steps = 0\n",
    "        rewards = 0\n",
    "        # Reset done flag\n",
    "        done = False\n",
    "        # Reset environment\n",
    "        observation = env.reset()\n",
    "        # Run until the experiment is over\n",
    "        while not done:\n",
    "\n",
    "            # Take a step with the environment\n",
    "            observation, reward, done, info = env.step(last_action)\n",
    "            \n",
    "            # Number of steps the agent take to solve the challenge\n",
    "            n_steps += 1\n",
    "            # Accumulate reward\n",
    "            rewards += reward\n",
    "\n",
    "            # If the goal has been reached stop\n",
    "            if done:\n",
    "                # Last step with the agent\n",
    "                agent.agent_end(reward)\n",
    "                \n",
    "            else:\n",
    "                # Take a step with the agent\n",
    "                last_action = agent.agent_step(reward, observation)\n",
    "                \n",
    "        # Save the amount of steps needed to complete the experiment \n",
    "        # Without rebooting the agent\n",
    "        steps_per_episode.append(n_steps)\n",
    "        # Save the amount of award obtained at each episode\n",
    "        rewards_per_episode.append(rewards)\n",
    "        \n",
    "    # Save the list of steeps needed to finish the experiment \n",
    "    # in all the Episodes\n",
    "    all_steps.append(np.array(steps_per_episode))\n",
    "    # Awards obtained in every episode\n",
    "    all_rewards.append(np.array(rewards_per_episode))\n",
    "\n",
    "env.close()"
   ]
  },
  {
   "cell_type": "code",
   "execution_count": 7,
   "metadata": {},
   "outputs": [
    {
     "data": {
      "image/png": "[encoded data removed]",
      "text/plain": [
       "<Figure size 432x288 with 1 Axes>"
      ]
     },
     "metadata": {
      "needs_background": "light"
     },
     "output_type": "display_data"
    },
    {
     "name": "stdout",
     "output_type": "stream",
     "text": [
      "The Minimum number of iterations used to solve the experiment were: 3042\n",
      "\n",
      "The Maximum number of iterations used to solve the experiment were: 151\n",
      "\n"
     ]
    }
   ],
   "source": [
    "steps_average = np.mean(np.array(all_steps), axis=0)\n",
    "plt.plot(steps_average, label = 'Steps')\n",
    "plt.xlabel(\"Episodes\")\n",
    "plt.ylabel(\"Iterations\",rotation=0, labelpad=40)\n",
    "plt.xlim(-0.2, num_episodes)\n",
    "plt.ylim(steps_average.min(), steps_average.max())\n",
    "plt.title(\"Average iterations to solve the experiment over runs\")\n",
    "plt.legend()\n",
    "plt.show()\n",
    "print(\"The Minimum number of iterations used to solve the experiment were: {0}\\n\".format(np.array(all_steps).max()))\n",
    "print(\"The Maximum number of iterations used to solve the experiment were: {0}\\n\".format(np.array(all_steps).min()))"
   ]
  },
  {
   "cell_type": "code",
   "execution_count": 8,
   "metadata": {},
   "outputs": [
    {
     "data": {
      "image/png": "[encoded data removed]",
      "text/plain": [
       "<Figure size 432x288 with 1 Axes>"
      ]
     },
     "metadata": {
      "needs_background": "light"
     },
     "output_type": "display_data"
    },
    {
     "name": "stdout",
     "output_type": "stream",
     "text": [
      "The best reward obtained solving the experiment was: -151.0\n",
      "\n",
      "The Wordt reward obtained solving the experiment was: -3042.0\n",
      "\n"
     ]
    }
   ],
   "source": [
    "rewards_average = np.mean(all_rewards, axis=0)\n",
    "plt.plot(rewards_average, label = 'Average Reward')\n",
    "plt.xlabel(\"Episodes\")\n",
    "plt.ylabel(\"Sum of\\n rewards\\n during\\n episode\" ,rotation=0, labelpad=40)\n",
    "plt.xlim(-0.2, num_episodes)\n",
    "plt.ylim(rewards_average.min(), rewards_average.max())\n",
    "plt.title(\"Average iterations to solve the experiment over runs\")\n",
    "plt.legend()\n",
    "plt.show()\n",
    "print(\"The best reward obtained solving the experiment was: {0}\\n\".format(np.array(all_rewards).max()))\n",
    "print(\"The Wordt reward obtained solving the experiment was: {0}\\n\".format(np.array(all_rewards).min()))"
   ]
  },
  {
   "cell_type": "markdown",
   "metadata": {},
   "source": [
    "## Using the last trained Agent \n",
    "\n",
    "This lines shows in a video the performance of the last trained agent and save a video with the results."
   ]
  },
  {
   "cell_type": "code",
   "execution_count": 9,
   "metadata": {
    "scrolled": false
   },
   "outputs": [
    {
     "name": "stderr",
     "output_type": "stream",
     "text": [
      "  0%|          | 0/1 [00:00<?, ?it/s]\n",
      "  0%|          | 0/1000 [00:00<?, ?it/s]\u001b[A\n",
      "  1%|▏         | 13/1000 [00:00<00:08, 120.88it/s]\u001b[A\n",
      "  3%|▎         | 26/1000 [00:00<00:08, 121.69it/s]\u001b[A\n",
      "  4%|▍         | 40/1000 [00:00<00:07, 125.46it/s]\u001b[A\n",
      "  5%|▌         | 53/1000 [00:00<00:07, 125.99it/s]\u001b[A\n",
      "  7%|▋         | 67/1000 [00:00<00:07, 127.33it/s]\u001b[A\n",
      "  8%|▊         | 81/1000 [00:00<00:07, 129.40it/s]\u001b[A\n",
      " 10%|▉         | 95/1000 [00:00<00:06, 130.08it/s]\u001b[A\n",
      " 11%|█         | 108/1000 [00:00<00:06, 129.70it/s]\u001b[A\n",
      " 12%|█▏        | 122/1000 [00:00<00:06, 130.58it/s]\u001b[A\n",
      " 14%|█▎        | 135/1000 [00:01<00:06, 128.63it/s]\u001b[A\n",
      " 16%|█▌        | 160/1000 [00:01<00:06, 126.99it/s]\u001b[A\n",
      "100%|██████████| 1/1 [00:01<00:00,  1.64s/it]"
     ]
    },
    {
     "name": "stdout",
     "output_type": "stream",
     "text": [
      "Episode finished after 161 timesteps\n"
     ]
    },
    {
     "name": "stderr",
     "output_type": "stream",
     "text": [
      "\n"
     ]
    }
   ],
   "source": [
    "# Test Sarsa Agent \n",
    "num_runs = 1\n",
    "num_episodes = 1000\n",
    "\n",
    "# Environment\n",
    "env_to_wrap = gym.make('MountainCar-v0')\n",
    "# Maximum number of possible iterations (default was 200)\n",
    "env_to_wrap._max_episode_steps = 1500\n",
    "env = Monitor(env_to_wrap, \"./video\", video_callable=lambda episode_id: True, force=True)\n",
    "\n",
    "\n",
    "# Number of runs are the times the experiment will start again (a.k.a episode)\n",
    "for n_runs in tqdm(range(num_runs)):\n",
    "    \n",
    "    # Resets environment\n",
    "    observation = env.reset()\n",
    "    # Generate last state and action in the agent\n",
    "    last_action = agent.agent_start(observation)\n",
    "        \n",
    "    # Times the environment will start again without resetting the agent\n",
    "    for t in tqdm(range(num_episodes)):\n",
    "\n",
    "        # View environment\n",
    "        env.render()\n",
    "\n",
    "        # Take a step with the environment\n",
    "        observation, reward, done, info = env.step(last_action)\n",
    "\n",
    "        # If the goal has been reached stop\n",
    "        if done:\n",
    "            # Last step with the agent\n",
    "            agent.agent_end(reward)\n",
    "            break\n",
    "\n",
    "        else:\n",
    "            # Take a step with the agent\n",
    "            last_action = agent.agent_step(reward, observation)\n",
    "\n",
    "\n",
    "env.close()\n",
    "env_to_wrap.close()\n",
    "\n",
    "print(\"Episode finished after {} timesteps\".format(t+1))"
   ]
  }
 ],
 "metadata": {
  "kernelspec": {
   "display_name": "Python 3",
   "language": "python",
   "name": "python3"
  },
  "language_info": {
   "codemirror_mode": {
    "name": "ipython",
    "version": 3
   },
   "file_extension": ".py",
   "mimetype": "text/x-python",
   "name": "python",
   "nbconvert_exporter": "python",
   "pygments_lexer": "ipython3",
   "version": "3.7.7"
  }
 },
 "nbformat": 4,
 "nbformat_minor": 4
}
